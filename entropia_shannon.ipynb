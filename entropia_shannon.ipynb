{
 "cells": [
  {
   "cell_type": "markdown",
   "metadata": {},
   "source": [
    "# Entropia de Shannon\n",
    "\n",
    "A Entropia de Shannon, em teoria da informação, é uma medida da **incerteza** ou **imprevisibilidade** associada a uma variável aleatória. Intuitivamente, ela nos diz a quantidade média de \"informação\" ou \"surpresa\" que obtemos ao observar um resultado.\n",
    "\n",
    "A fórmula é:\n",
    "\n",
    "$$ H(X) = -\\sum_{i=1}^{n} P(x_i) \\log_b P(x_i) $$\n",
    "\n",
    "Onde:\n",
    "- $P(x_i)$ é a probabilidade do i-ésimo resultado.\n",
    "- $b$ é a base do logaritmo. Geralmente usamos $b=2$, e a unidade de entropia é **bits**.\n",
    "\n",
    "- **Entropia Alta**: Muita incerteza (ex: um dado justo).\n",
    "- **Entropia Baixa**: Pouca incerteza (ex: um dado viciado que quase sempre cai no 6)."
   ]
  },
  {
   "cell_type": "code",
   "execution_count": 1,
   "metadata": {},
   "outputs": [],
   "source": [
    "import numpy as np"
   ]
  },
  {
   "cell_type": "code",
   "execution_count": 2,
   "metadata": {},
   "outputs": [],
   "source": [
    "def shannon_entropy(probabilities):\n",
    "    \"\"\"Calcula a Entropia de Shannon para uma lista de probabilidades.\"\"\"\n",
    "    # Filtra probabilidades que são zero para evitar log(0)\n",
    "    probs = np.array([p for p in probabilities if p > 0])\n",
    "    if not np.isclose(np.sum(probs), 1.0):\n",
    "        raise ValueError(\"As probabilidades devem somar 1.\")\n",
    "    \n",
    "    return -np.sum(probs * np.log2(probs))"
   ]
  },
  {
   "cell_type": "code",
   "execution_count": 3,
   "metadata": {},
   "outputs": [
    {
     "name": "stdout",
     "output_type": "stream",
     "text": [
      "Entropia de uma moeda justa: 1.0000 bits\n"
     ]
    }
   ],
   "source": [
    "# Exemplo 1: Moeda Justa (Incerteza Máxima)\n",
    "prob_moeda_justa = [0.5, 0.5] # Cara, Coroa\n",
    "entropia1 = shannon_entropy(prob_moeda_justa)\n",
    "print(f\"Entropia de uma moeda justa: {entropia1:.4f} bits\")"
   ]
  },
  {
   "cell_type": "code",
   "execution_count": 4,
   "metadata": {},
   "outputs": [
    {
     "name": "stdout",
     "output_type": "stream",
     "text": [
      "Entropia de uma moeda viciada (90/10): 0.4690 bits\n"
     ]
    }
   ],
   "source": [
    "# Exemplo 2: Moeda Viciada (Menos Incerteza)\n",
    "prob_moeda_viciada = [0.9, 0.1]\n",
    "entropia2 = shannon_entropy(prob_moeda_viciada)\n",
    "print(f\"Entropia de uma moeda viciada (90/10): {entropia2:.4f} bits\")"
   ]
  },
  {
   "cell_type": "code",
   "execution_count": 5,
   "metadata": {},
   "outputs": [
    {
     "name": "stdout",
     "output_type": "stream",
     "text": [
      "Entropia de uma moeda com resultado certo: -0.0000 bits\n"
     ]
    }
   ],
   "source": [
    "# Exemplo 3: Moeda de Duas Caras (Nenhuma Incerteza)\n",
    "prob_moeda_certeza = [1.0, 0.0]\n",
    "entropia3 = shannon_entropy(prob_moeda_certeza)\n",
    "print(f\"Entropia de uma moeda com resultado certo: {entropia3:.4f} bits\")"
   ]
  },
  {
   "cell_type": "code",
   "execution_count": 6,
   "metadata": {},
   "outputs": [
    {
     "name": "stdout",
     "output_type": "stream",
     "text": [
      "Entropia de um dado justo de 6 lados: 2.5850 bits\n"
     ]
    }
   ],
   "source": [
    "# Exemplo 4: Dado Justo de 6 lados\n",
    "prob_dado_justo = [1/6] * 6\n",
    "entropia4 = shannon_entropy(prob_dado_justo)\n",
    "print(f\"Entropia de um dado justo de 6 lados: {entropia4:.4f} bits\")"
   ]
  },
  {
   "cell_type": "markdown",
   "metadata": {},
   "source": [
    "### Observações\n",
    "\n",
    "- A entropia é máxima (1.0 bit) para o caso da moeda justa, pois há total incerteza sobre o resultado.\n",
    "- À medida que a moeda se torna mais viciada, a incerteza diminui, e a entropia também.\n",
    "- Quando o resultado é certo, não há \"surpresa\", e a entropia é 0.\n",
    "- A entropia é crucial em Árvores de Decisão, onde o algoritmo busca dividir os dados de forma a maximizar o **Ganho de Informação**, que é uma redução na entropia."
   ]
  }
 ],
 "metadata": {
  "kernelspec": {
   "display_name": "base",
   "language": "python",
   "name": "python3"
  },
  "language_info": {
   "codemirror_mode": {
    "name": "ipython",
    "version": 3
   },
   "file_extension": ".py",
   "mimetype": "text/x-python",
   "name": "python",
   "nbconvert_exporter": "python",
   "pygments_lexer": "ipython3",
   "version": "3.13.5"
  }
 },
 "nbformat": 4,
 "nbformat_minor": 4
}
