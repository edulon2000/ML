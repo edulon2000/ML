{
 "cells": [
  {
   "cell_type": "markdown",
   "metadata": {},
   "source": [
    "# Métodos de Cálculo de Distância\n",
    "\n",
    "Muitos algoritmos de Machine Learning (como KNN, K-Means, etc.) dependem de uma métrica de distância para quantificar a similaridade ou dissimilaridade entre pontos de dados. A escolha da métrica correta pode impactar significativamente o desempenho do modelo.\n",
    "\n",
    "Vamos explorar as métricas mais comuns usando dois vetores de exemplo."
   ]
  },
  {
   "cell_type": "code",
   "execution_count": 3,
   "metadata": {},
   "outputs": [
    {
     "name": "stdout",
     "output_type": "stream",
     "text": [
      "Ponto 1: [1 2]\n",
      "Ponto 2: [5 5]\n",
      "------------------------------\n"
     ]
    }
   ],
   "source": [
    "import numpy as np\n",
    "from scipy.spatial import distance\n",
    "\n",
    "# Dois vetores de exemplo no espaço 2D\n",
    "p1 = np.array([1, 2])\n",
    "p2 = np.array([5, 5])\n",
    "\n",
    "print(f\"Ponto 1: {p1}\")\n",
    "print(f\"Ponto 2: {p2}\")\n",
    "print(\"-\"*30)"
   ]
  },
  {
   "cell_type": "markdown",
   "metadata": {},
   "source": [
    "### 1. Distância Euclidiana\n",
    "\n",
    "A distância \"em linha reta\" entre dois pontos. É a mais intuitiva.\n",
    "$$ d(p, q) = \\sqrt{\\sum_{i=1}^{n} (p_i - q_i)^2} $$"
   ]
  },
  {
   "cell_type": "code",
   "execution_count": 4,
   "metadata": {},
   "outputs": [
    {
     "name": "stdout",
     "output_type": "stream",
     "text": [
      "Distância Euclidiana: 5.0000\n"
     ]
    }
   ],
   "source": [
    "dist_euclidiana = distance.euclidean(p1, p2)\n",
    "print(f\"Distância Euclidiana: {dist_euclidiana:.4f}\")"
   ]
  },
  {
   "cell_type": "markdown",
   "metadata": {},
   "source": [
    "### 2. Distância de Manhattan (City Block)\n",
    "\n",
    "A distância percorrida se você só puder se mover em ângulos retos (como em um quarteirão de cidade).\n",
    "$$ d(p, q) = \\sum_{i=1}^{n} |p_i - q_i| $$"
   ]
  },
  {
   "cell_type": "code",
   "execution_count": 5,
   "metadata": {},
   "outputs": [
    {
     "name": "stdout",
     "output_type": "stream",
     "text": [
      "Distância de Manhattan: 7.0000\n"
     ]
    }
   ],
   "source": [
    "dist_manhattan = distance.cityblock(p1, p2)\n",
    "print(f\"Distância de Manhattan: {dist_manhattan:.4f}\")"
   ]
  },
  {
   "cell_type": "markdown",
   "metadata": {},
   "source": [
    "### 3. Distância de Minkowski\n",
    "\n",
    "Uma generalização das distâncias Euclidiana e de Manhattan.\n",
    "$$ d(p, q) = (\\sum_{i=1}^{n} |p_i - q_i|^p)^{1/p} $$\n",
    "- Se `p=1`, é a distância de Manhattan.\n",
    "- Se `p=2`, é a distância Euclidiana."
   ]
  },
  {
   "cell_type": "code",
   "execution_count": 6,
   "metadata": {},
   "outputs": [
    {
     "name": "stdout",
     "output_type": "stream",
     "text": [
      "Distância de Minkowski (p=1): 7.0000\n",
      "Distância de Minkowski (p=2): 5.0000\n",
      "Distância de Minkowski (p=3): 4.4979\n"
     ]
    }
   ],
   "source": [
    "# Minkowski com p=1 (Manhattan)\n",
    "dist_minkowski_1 = distance.minkowski(p1, p2, p=1)\n",
    "print(f\"Distância de Minkowski (p=1): {dist_minkowski_1:.4f}\")\n",
    "\n",
    "# Minkowski com p=2 (Euclidiana)\n",
    "dist_minkowski_2 = distance.minkowski(p1, p2, p=2)\n",
    "print(f\"Distância de Minkowski (p=2): {dist_minkowski_2:.4f}\")\n",
    "\n",
    "# Minkowski com p=3\n",
    "dist_minkowski_3 = distance.minkowski(p1, p2, p=3)\n",
    "print(f\"Distância de Minkowski (p=3): {dist_minkowski_3:.4f}\")"
   ]
  },
  {
   "cell_type": "markdown",
   "metadata": {},
   "source": [
    "### 4. Distância de Chebyshev\n",
    "\n",
    "É o valor máximo absoluto da diferença entre as coordenadas dos vetores.\n",
    "$$ d(p, q) = \\max_i(|p_i - q_i|) $$"
   ]
  },
  {
   "cell_type": "code",
   "execution_count": 7,
   "metadata": {},
   "outputs": [
    {
     "name": "stdout",
     "output_type": "stream",
     "text": [
      "Distância de Chebyshev: 4.0000\n"
     ]
    }
   ],
   "source": [
    "dist_chebyshev = distance.chebyshev(p1, p2)\n",
    "print(f\"Distância de Chebyshev: {dist_chebyshev:.4f}\")"
   ]
  },
  {
   "cell_type": "markdown",
   "metadata": {},
   "source": [
    "### 5. Distância de Cosseno\n",
    "\n",
    "Mede o cosseno do ângulo entre dois vetores. É muito usada para medir a similaridade de orientação, ignorando a magnitude. Útil em PLN (Processamento de Linguagem Natural).\n",
    "\n",
    "A **similaridade** de cosseno é: $ \\frac{p \\cdot q}{||p|| \\cdot ||q||} $. A **distância** é $1 - similaridade$."
   ]
  },
  {
   "cell_type": "code",
   "execution_count": 8,
   "metadata": {},
   "outputs": [
    {
     "name": "stdout",
     "output_type": "stream",
     "text": [
      "Distância de Cosseno entre [1, 10] e [2, 20]: 0.0000 (Muito similares)\n",
      "Distância de Cosseno entre [1, 10] e [10, 1]: 0.8020 (Muito diferentes)\n"
     ]
    }
   ],
   "source": [
    "p3 = np.array([1, 10])\n",
    "p4 = np.array([2, 20]) # Mesma direção, magnitude diferente\n",
    "p5 = np.array([10, 1]) # Direção diferente\n",
    "\n",
    "dist_cosseno_1_2 = distance.cosine(p3, p4)\n",
    "dist_cosseno_1_3 = distance.cosine(p3, p5)\n",
    "\n",
    "print(f\"Distância de Cosseno entre [1, 10] e [2, 20]: {dist_cosseno_1_2:.4f} (Muito similares)\")\n",
    "print(f\"Distância de Cosseno entre [1, 10] e [10, 1]: {dist_cosseno_1_3:.4f} (Muito diferentes)\")"
   ]
  },
  {
   "cell_type": "markdown",
   "metadata": {},
   "source": [
    "### 6. Distância Geodésica\n",
    "\n",
    "Não é uma distância em um espaço vetorial plano, mas sim a **distância do caminho mais curto entre dois pontos em uma superfície curva**, como a superfície da Terra. O cálculo é mais complexo e depende da geometria da superfície. Não tem uma implementação simples em `scipy.spatial` para vetores genéricos."
   ]
  },
  {
   "cell_type": "markdown",
   "metadata": {},
   "source": [
    "### 7. Distância de Mahalanobis\n",
    "\n",
    "É uma medida de distância que leva em consideração a **correlação** entre as variáveis. Ela mede a distância de um ponto à média de uma distribuição de dados, ajustada pela covariância dessa distribuição. É útil para detectar outliers.\n",
    "\n",
    "$$ D_M(x) = \\sqrt{(x - \\mu)^T S^{-1} (x - \\mu)} $$"
   ]
  },
  {
   "cell_type": "code",
   "execution_count": 9,
   "metadata": {},
   "outputs": [
    {
     "name": "stdout",
     "output_type": "stream",
     "text": [
      "Distância de Mahalanobis: 1.9204\n"
     ]
    }
   ],
   "source": [
    "# Criando um conjunto de dados para calcular a covariância\n",
    "np.random.seed(0)\n",
    "X = np.random.rand(100, 2)\n",
    "Sx = np.cov(X, rowvar=False)\n",
    "Sx_inv = np.linalg.inv(Sx)\n",
    "\n",
    "# Pontos para comparar\n",
    "ponto_a = [0.5, 0.5]\n",
    "ponto_b = [0.1, 0.9]\n",
    "\n",
    "dist_mahalanobis = distance.mahalanobis(ponto_a, ponto_b, Sx_inv)\n",
    "print(f\"Distância de Mahalanobis: {dist_mahalanobis:.4f}\")"
   ]
  }
 ],
 "metadata": {
  "kernelspec": {
   "display_name": "base",
   "language": "python",
   "name": "python3"
  },
  "language_info": {
   "codemirror_mode": {
    "name": "ipython",
    "version": 3
   },
   "file_extension": ".py",
   "mimetype": "text/x-python",
   "name": "python",
   "nbconvert_exporter": "python",
   "pygments_lexer": "ipython3",
   "version": "3.13.5"
  }
 },
 "nbformat": 4,
 "nbformat_minor": 4
}
