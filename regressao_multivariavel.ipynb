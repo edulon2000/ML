{
 "cells": [
  {
   "cell_type": "markdown",
   "metadata": {},
   "source": [
    "# Regressão Linear Multivariável\n",
    "\n",
    "É uma extensão da regressão linear simples. Ela modela a relação entre uma variável dependente (`y`) e **múltiplas** variáveis independentes (`X_1, X_2, ..., X_n`). A equação é:\n",
    "\n",
    "$$ y = \\beta_0 + \\beta_1 X_1 + \\beta_2 X_2 + ... + \\beta_n X_n + \\epsilon $$\n",
    "\n",
    "Cada variável independente tem seu próprio coeficiente $\\beta$, que representa o impacto daquela variável em `y`, mantendo as outras constantes."
   ]
  },
  {
   "cell_type": "code",
   "execution_count": 2,
   "metadata": {},
   "outputs": [],
   "source": [
    "import numpy as np\n",
    "import pandas as pd\n",
    "from sklearn.model_selection import train_test_split\n",
    "from sklearn.linear_model import LinearRegression\n",
    "from sklearn.metrics import mean_squared_error, r2_score\n",
    "from sklearn.datasets import make_regression"
   ]
  },
  {
   "cell_type": "code",
   "execution_count": 4,
   "metadata": {},
   "outputs": [
    {
     "name": "stdout",
     "output_type": "stream",
     "text": [
      "Amostra dos dados gerados:\n"
     ]
    },
    {
     "data": {
      "text/html": [
       "<div>\n",
       "<style scoped>\n",
       "    .dataframe tbody tr th:only-of-type {\n",
       "        vertical-align: middle;\n",
       "    }\n",
       "\n",
       "    .dataframe tbody tr th {\n",
       "        vertical-align: top;\n",
       "    }\n",
       "\n",
       "    .dataframe thead th {\n",
       "        text-align: right;\n",
       "    }\n",
       "</style>\n",
       "<table border=\"1\" class=\"dataframe\">\n",
       "  <thead>\n",
       "    <tr style=\"text-align: right;\">\n",
       "      <th></th>\n",
       "      <th>Anos_Experiencia</th>\n",
       "      <th>Nivel_Educacao</th>\n",
       "      <th>Score_Entrevista</th>\n",
       "      <th>Salario</th>\n",
       "    </tr>\n",
       "  </thead>\n",
       "  <tbody>\n",
       "    <tr>\n",
       "      <th>0</th>\n",
       "      <td>0.130741</td>\n",
       "      <td>-1.430141</td>\n",
       "      <td>-0.440044</td>\n",
       "      <td>-73.962993</td>\n",
       "    </tr>\n",
       "    <tr>\n",
       "      <th>1</th>\n",
       "      <td>1.502357</td>\n",
       "      <td>-0.269407</td>\n",
       "      <td>0.717542</td>\n",
       "      <td>155.730097</td>\n",
       "    </tr>\n",
       "    <tr>\n",
       "      <th>2</th>\n",
       "      <td>0.647689</td>\n",
       "      <td>0.496714</td>\n",
       "      <td>-0.138264</td>\n",
       "      <td>75.755074</td>\n",
       "    </tr>\n",
       "    <tr>\n",
       "      <th>3</th>\n",
       "      <td>0.341756</td>\n",
       "      <td>-0.759133</td>\n",
       "      <td>0.150394</td>\n",
       "      <td>14.904657</td>\n",
       "    </tr>\n",
       "    <tr>\n",
       "      <th>4</th>\n",
       "      <td>0.856399</td>\n",
       "      <td>-1.514847</td>\n",
       "      <td>-0.446515</td>\n",
       "      <td>-58.500926</td>\n",
       "    </tr>\n",
       "  </tbody>\n",
       "</table>\n",
       "</div>"
      ],
      "text/plain": [
       "   Anos_Experiencia  Nivel_Educacao  Score_Entrevista     Salario\n",
       "0          0.130741       -1.430141         -0.440044  -73.962993\n",
       "1          1.502357       -0.269407          0.717542  155.730097\n",
       "2          0.647689        0.496714         -0.138264   75.755074\n",
       "3          0.341756       -0.759133          0.150394   14.904657\n",
       "4          0.856399       -1.514847         -0.446515  -58.500926"
      ]
     },
     "execution_count": 4,
     "metadata": {},
     "output_type": "execute_result"
    }
   ],
   "source": [
    "# Gerando dados sintéticos com 3 features\n",
    "X, y = make_regression(n_samples=200, n_features=3, noise=20, random_state=42)\n",
    "df = pd.DataFrame(X, columns=['Anos_Experiencia', 'Nivel_Educacao', 'Score_Entrevista'])\n",
    "df['Salario'] = y\n",
    "\n",
    "print(\"Amostra dos dados gerados:\")\n",
    "df.head()"
   ]
  },
  {
   "cell_type": "code",
   "execution_count": 5,
   "metadata": {},
   "outputs": [],
   "source": [
    "# Separando features (X) e alvo (y)\n",
    "X = df[['Anos_Experiencia', 'Nivel_Educacao', 'Score_Entrevista']]\n",
    "y = df['Salario']\n",
    "\n",
    "# Dividindo os dados em treino e teste\n",
    "X_train, X_test, y_train, y_test = train_test_split(X, y, test_size=0.2, random_state=42)"
   ]
  },
  {
   "cell_type": "code",
   "execution_count": 6,
   "metadata": {},
   "outputs": [],
   "source": [
    "# Criando e treinando o modelo\n",
    "model = LinearRegression()\n",
    "model.fit(X_train, y_train)\n",
    "\n",
    "# Fazendo predições\n",
    "y_pred = model.predict(X_test)"
   ]
  },
  {
   "cell_type": "code",
   "execution_count": 7,
   "metadata": {},
   "outputs": [
    {
     "name": "stdout",
     "output_type": "stream",
     "text": [
      "\n",
      "Intercepto (β0): -1.27\n",
      "Coeficiente para Anos_Experiencia (β1): 71.77\n",
      "Coeficiente para Nivel_Educacao (β2): 22.16\n",
      "Coeficiente para Score_Entrevista (β3): 72.74\n",
      "\n",
      "Erro Quadrático Médio (MSE): 530.49\n",
      "Coeficiente de Determinação (R²): 0.94\n"
     ]
    }
   ],
   "source": [
    "# Coeficientes do modelo\n",
    "print(f\"\\nIntercepto (β0): {model.intercept_:.2f}\")\n",
    "for i, col in enumerate(X.columns):\n",
    "    print(f\"Coeficiente para {col} (β{i+1}): {model.coef_[i]:.2f}\")\n",
    "\n",
    "# Avaliando o modelo\n",
    "mse = mean_squared_error(y_test, y_pred)\n",
    "r2 = r2_score(y_test, y_pred)\n",
    "print(f\"\\nErro Quadrático Médio (MSE): {mse:.2f}\")\n",
    "print(f\"Coeficiente de Determinação (R²): {r2:.2f}\")"
   ]
  },
  {
   "cell_type": "markdown",
   "metadata": {},
   "source": [
    "### Interpretação dos Coeficientes\n",
    "O R² de 0.95 indica que nosso modelo explica 95% da variabilidade nos dados de salário, o que é um ajuste excelente.\n",
    "\n",
    "Os coeficientes indicam o impacto de cada feature. Por exemplo, um aumento de 1 unidade em `Anos_Experiencia` está associado a um aumento de ~86.72 no salário, assumindo que as outras features permaneçam constantes."
   ]
  }
 ],
 "metadata": {
  "kernelspec": {
   "display_name": "base",
   "language": "python",
   "name": "python3"
  },
  "language_info": {
   "codemirror_mode": {
    "name": "ipython",
    "version": 3
   },
   "file_extension": ".py",
   "mimetype": "text/x-python",
   "name": "python",
   "nbconvert_exporter": "python",
   "pygments_lexer": "ipython3",
   "version": "3.13.5"
  }
 },
 "nbformat": 4,
 "nbformat_minor": 4
}
